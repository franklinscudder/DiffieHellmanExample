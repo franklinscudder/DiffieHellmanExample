{
  "nbformat": 4,
  "nbformat_minor": 0,
  "metadata": {
    "colab": {
      "name": "DiffieHellman.ipynb",
      "provenance": [],
      "collapsed_sections": [],
      "authorship_tag": "ABX9TyOwuS9ifZERXPk/PXg713lF",
      "include_colab_link": true
    },
    "kernelspec": {
      "name": "python3",
      "display_name": "Python 3"
    },
    "language_info": {
      "name": "python"
    }
  },
  "cells": [
    {
      "cell_type": "markdown",
      "metadata": {
        "id": "view-in-github",
        "colab_type": "text"
      },
      "source": [
        "<a href=\"https://colab.research.google.com/github/franklinscudder/DiffieHellmanExample/blob/main/DiffieHellman.ipynb\" target=\"_parent\"><img src=\"https://colab.research.google.com/assets/colab-badge.svg\" alt=\"Open In Colab\"/></a>"
      ]
    },
    {
      "cell_type": "code",
      "metadata": {
        "colab": {
          "base_uri": "https://localhost:8080/",
          "height": 454
        },
        "id": "TavAF5G1NLoq",
        "outputId": "f198dd2e-d092-48fd-d41d-9cd61421a119"
      },
      "source": [
        "!pip3 install numba --upgrade\n",
        "!pip3 install pycryptodome"
      ],
      "execution_count": 5,
      "outputs": [
        {
          "output_type": "stream",
          "text": [
            "Collecting numba\n",
            "\u001b[?25l  Downloading https://files.pythonhosted.org/packages/bb/73/d9c127eddbe3c105a33379d425b88f9dca249a6eddf39ce886494d49c3f9/numba-0.53.1-cp37-cp37m-manylinux2014_x86_64.whl (3.4MB)\n",
            "\u001b[K     |████████████████████████████████| 3.4MB 4.3MB/s \n",
            "\u001b[?25hRequirement already satisfied, skipping upgrade: numpy>=1.15 in /usr/local/lib/python3.7/dist-packages (from numba) (1.19.5)\n",
            "Collecting llvmlite<0.37,>=0.36.0rc1\n",
            "\u001b[?25l  Downloading https://files.pythonhosted.org/packages/54/25/2b4015e2b0c3be2efa6870cf2cf2bd969dd0e5f937476fc13c102209df32/llvmlite-0.36.0-cp37-cp37m-manylinux2010_x86_64.whl (25.3MB)\n",
            "\u001b[K     |████████████████████████████████| 25.3MB 1.6MB/s \n",
            "\u001b[?25hRequirement already satisfied, skipping upgrade: setuptools in /usr/local/lib/python3.7/dist-packages (from numba) (57.0.0)\n",
            "Installing collected packages: llvmlite, numba\n",
            "  Found existing installation: llvmlite 0.34.0\n",
            "    Uninstalling llvmlite-0.34.0:\n",
            "      Successfully uninstalled llvmlite-0.34.0\n",
            "  Found existing installation: numba 0.51.2\n",
            "    Uninstalling numba-0.51.2:\n",
            "      Successfully uninstalled numba-0.51.2\n",
            "Successfully installed llvmlite-0.36.0 numba-0.53.1\n"
          ],
          "name": "stdout"
        },
        {
          "output_type": "display_data",
          "data": {
            "application/vnd.colab-display-data+json": {
              "pip_warning": {
                "packages": [
                  "llvmlite",
                  "numba"
                ]
              }
            }
          },
          "metadata": {
            "tags": []
          }
        },
        {
          "output_type": "stream",
          "text": [
            "Collecting pycryptodome\n",
            "\u001b[?25l  Downloading https://files.pythonhosted.org/packages/ad/16/9627ab0493894a11c68e46000dbcc82f578c8ff06bc2980dcd016aea9bd3/pycryptodome-3.10.1-cp35-abi3-manylinux2010_x86_64.whl (1.9MB)\n",
            "\u001b[K     |████████████████████████████████| 1.9MB 5.2MB/s \n",
            "\u001b[?25hInstalling collected packages: pycryptodome\n",
            "Successfully installed pycryptodome-3.10.1\n"
          ],
          "name": "stdout"
        }
      ]
    },
    {
      "cell_type": "code",
      "metadata": {
        "colab": {
          "base_uri": "https://localhost:8080/"
        },
        "id": "vh7WXq-BKDHB",
        "outputId": "b33112dd-e2e6-480a-99d6-e25cf3d1b175"
      },
      "source": [
        "from numba import njit\n",
        "import random\n",
        "from math import gcd as bltin_gcd\n",
        "import Crypto.PublicKey.ECC as ecc\n",
        "\n",
        "def primRoots(modulo):\n",
        "    required_set = {num for num in range(1, modulo) if bltin_gcd(num, modulo) }\n",
        "    return [g for g in range(1, modulo) if required_set == {pow(g, powers, modulo) for powers in range(1, modulo)}]\n",
        "\n",
        "@njit\n",
        "def Prime(n):\n",
        "    if n & 1 == 0:\n",
        "        return 2\n",
        "    d= 3\n",
        "    while d * d <= n:\n",
        "        if n % d == 0:\n",
        "            return d\n",
        "        d= d + 2\n",
        "    return 0\n",
        "\n",
        "@njit\n",
        "def getPrime(bits):\n",
        "    p=1\n",
        "    n = 0\n",
        "    bits = 2 ** bits\n",
        "    base = random.randint(bits/2, bits)\n",
        "\n",
        "    while p is not 0:\n",
        "        n+=1\n",
        "        p = Prime(base + n)\n",
        "\n",
        "    return base + n\n",
        "\n",
        "class user:\n",
        "    def __init__(self):\n",
        "        self.rx = []\n",
        "        self.secret = random.randint(1,4096)\n",
        "    \n",
        "    def initDH(self, target, bits):\n",
        "        print(f\"Finding a {bits}-bit prime...\")\n",
        "        self.p = getPrime(bits)\n",
        "        print(f\"Finding a suitable generator...\")\n",
        "        self.g = random.choice(primRoots(self.p))\n",
        "        print(f\"The shared prime is: {self.p}\")\n",
        "        print(f\"The shared generator is: {self.g}\")        \n",
        "        self.myPubKey = (self.g ** self.secret) % self.p\n",
        "        print(f\"The initialiser's public key is: {self.myPubKey}\")\n",
        "        target.rx.append(self.p)\n",
        "        target.rx.append(self.g)\n",
        "        target.rx.append(self.myPubKey)\n",
        "        target.respDH(self)\n",
        "        self.theirPubKey = self.rx.pop()\n",
        "        print(f\"The respondant's public key is: {self.theirPubKey}\")\n",
        "        self.finalKey = (self.theirPubKey ** self.secret) % self.p\n",
        "        print(f\"The final agreed private key is: {self.finalKey}\")\n",
        "\n",
        "    def respDH(self, target):\n",
        "        self.theirPubKey = self.rx.pop()\n",
        "        self.g = self.rx.pop()\n",
        "        self.p = self.rx.pop()\n",
        "        self.myPubKey = (self.g ** self.secret) % self.p\n",
        "        target.rx.append(self.myPubKey)\n",
        "        self.finalKey = (self.theirPubKey ** self.secret) % self.p\n",
        "\n",
        "    def initECDHE(self, target):\n",
        "        print(\"Using NIST P-256 elliptic curve...\")\n",
        "        print(\"Generating a new initialiser key pair...\")\n",
        "        self.privEC = ecc.generate(curve=\"p256\")\n",
        "        self.pubEC = self.privEC.public_key()\n",
        "        print(\"Sending initialiser's public key...\")\n",
        "        target.rx.append(self.pubEC)\n",
        "        target.respECDHE(self)\n",
        "        self.theirPubEC = self.rx.pop()\n",
        "        print(\"Recieved respondant's key!\")\n",
        "        self.finalEC = (self.privEC.d * self.theirPubEC.pointQ)\n",
        "        self.finalECx = self.finalEC.x\n",
        "        print(f\"Final shared secret is: {self.finalECx}\")\n",
        "        \n",
        "    def respECDHE(self, target):\n",
        "        print(\"Generating a new respondant key pair...\")\n",
        "        self.privEC = ecc.generate(curve=\"p256\")\n",
        "        self.pubEC = self.privEC.public_key()\n",
        "        self.theirPubEC = self.rx.pop()\n",
        "        print(\"Recieved initialiser's key!\")\n",
        "        print(\"Sending respondant's public key...\")\n",
        "        target.rx.append(self.pubEC)\n",
        "        self.finalEC = self.privEC.d * self.theirPubEC.pointQ\n",
        "        self.finalECx = self.finalEC.x\n",
        "        print(f\"Final shared secret is: {self.finalECx}\")\n",
        "        \n",
        "\n",
        "if __name__ == \"__main__\":\n",
        "    alice = user()\n",
        "    bob = user()\n",
        "\n",
        "    print(\"+++ Modulo Exponential Diffie-Hellman +++\")\n",
        "    alice.initDH(bob, 4)\n",
        "    print()\n",
        "\n",
        "    print(\"+++ Elliptic Curve Diffie-Hellman (Ephemeral) +++\")\n",
        "    bob.initECDHE(alice)\n"
      ],
      "execution_count": 16,
      "outputs": [
        {
          "output_type": "stream",
          "text": [
            "+++ Modulo Exponential Diffie-Hellman +++\n",
            "Finding a 4-bit prime...\n",
            "Finding a suitable generator...\n",
            "The shared prime is: 11\n",
            "The shared generator is: 6\n",
            "The initialiser's public key is: 6\n",
            "The respondant's public key is: 7\n",
            "The final agreed private key is: 7\n",
            "\n",
            "+++ Elliptic Curve Diffie-Hellman (Ephemeral) +++\n",
            "Using NIST P-256 elliptic curve...\n",
            "Generating a new initialiser key pair...\n",
            "Sending initialiser's public key...\n",
            "Generating a new respondant key pair...\n",
            "Recieved initialiser's key!\n",
            "Sending respondant's public key...\n",
            "Final shared secret is: 11474164584863126621860694098576189739003695545082394056251958880321190646056\n",
            "Recieved respondant's key!\n",
            "Final shared secret is: 11474164584863126621860694098576189739003695545082394056251958880321190646056\n"
          ],
          "name": "stdout"
        }
      ]
    }
  ]
}