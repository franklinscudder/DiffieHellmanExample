{
  "nbformat": 4,
  "nbformat_minor": 0,
  "metadata": {
    "colab": {
      "name": "DiffieHellman.ipynb",
      "provenance": [],
      "collapsed_sections": [],
      "authorship_tag": "ABX9TyOzJdqvldB0PsWfH7bRTbKR",
      "include_colab_link": true
    },
    "kernelspec": {
      "name": "python3",
      "display_name": "Python 3"
    },
    "language_info": {
      "name": "python"
    }
  },
  "cells": [
    {
      "cell_type": "markdown",
      "metadata": {
        "id": "view-in-github",
        "colab_type": "text"
      },
      "source": [
        "<a href=\"https://colab.research.google.com/github/franklinscudder/DiffieHellmanExample/blob/main/DiffieHellman.ipynb\" target=\"_parent\"><img src=\"https://colab.research.google.com/assets/colab-badge.svg\" alt=\"Open In Colab\"/></a>"
      ]
    },
    {
      "cell_type": "code",
      "metadata": {
        "colab": {
          "base_uri": "https://localhost:8080/"
        },
        "id": "TavAF5G1NLoq",
        "outputId": "cc53b098-c228-42a1-fbe4-8dea290c904a"
      },
      "source": [
        "!pip3 install numba --upgrade\n",
        "!pip3 install pycryptodome"
      ],
      "execution_count": 1,
      "outputs": [
        {
          "output_type": "stream",
          "text": [
            "Requirement already satisfied: numba in /usr/local/lib/python3.7/dist-packages (0.51.2)\n",
            "Collecting numba\n",
            "  Downloading numba-0.53.1-cp37-cp37m-manylinux2014_x86_64.whl (3.4 MB)\n",
            "\u001b[K     |████████████████████████████████| 3.4 MB 7.9 MB/s \n",
            "\u001b[?25hRequirement already satisfied: setuptools in /usr/local/lib/python3.7/dist-packages (from numba) (57.2.0)\n",
            "Collecting llvmlite<0.37,>=0.36.0rc1\n",
            "  Downloading llvmlite-0.36.0-cp37-cp37m-manylinux2010_x86_64.whl (25.3 MB)\n",
            "\u001b[K     |████████████████████████████████| 25.3 MB 74.0 MB/s \n",
            "\u001b[?25hRequirement already satisfied: numpy>=1.15 in /usr/local/lib/python3.7/dist-packages (from numba) (1.19.5)\n",
            "Installing collected packages: llvmlite, numba\n",
            "  Attempting uninstall: llvmlite\n",
            "    Found existing installation: llvmlite 0.34.0\n",
            "    Uninstalling llvmlite-0.34.0:\n",
            "      Successfully uninstalled llvmlite-0.34.0\n",
            "  Attempting uninstall: numba\n",
            "    Found existing installation: numba 0.51.2\n",
            "    Uninstalling numba-0.51.2:\n",
            "      Successfully uninstalled numba-0.51.2\n",
            "Successfully installed llvmlite-0.36.0 numba-0.53.1\n",
            "Collecting pycryptodome\n",
            "  Downloading pycryptodome-3.10.1-cp35-abi3-manylinux2010_x86_64.whl (1.9 MB)\n",
            "\u001b[K     |████████████████████████████████| 1.9 MB 8.7 MB/s \n",
            "\u001b[?25hInstalling collected packages: pycryptodome\n",
            "Successfully installed pycryptodome-3.10.1\n"
          ],
          "name": "stdout"
        }
      ]
    },
    {
      "cell_type": "code",
      "metadata": {
        "colab": {
          "base_uri": "https://localhost:8080/"
        },
        "id": "vh7WXq-BKDHB",
        "outputId": "f26ad7a2-83d3-480d-c85f-8ad6ad2f05af"
      },
      "source": [
        "\"\"\"\n",
        "A demo of Diffie-Hellman key exchange using prime modulo exponentiation and \n",
        "elliptic curve cryptography.\n",
        "\n",
        "by Tom Findlay\n",
        "\"\"\"\n",
        "\n",
        "import random\n",
        "from math import gcd as gcd\n",
        "import Crypto.PublicKey.ECC as ecc\n",
        "from sympy import randprime\n",
        "\n",
        "class user:\n",
        "    \"\"\"\n",
        "    A class representing a user on one end of the key exchange process\n",
        "    \"\"\"\n",
        "    def __init__(self):\n",
        "        self.rx = []  # the receiving buffer\n",
        "        self.secret = random.randint(2 ** 8, 2 ** 16) # a secret integer\n",
        "    \n",
        "    def initDH(self, target, bits):\n",
        "        \"\"\"\n",
        "        Start a prime modulus exponentiation key exchange with user instance\n",
        "        'target' and a prime of size 'bits'.\n",
        "        \"\"\"\n",
        "        print(f\"Finding a {bits}-bit prime...\")\n",
        "        self.p = randprime(2 ** (bits-4), 2 ** bits)\n",
        "        print(f\"Finding a suitable generator...\")\n",
        "        self.g = random.randint(2 ** (bits-4), 2 ** bits)\n",
        "        print(f\"The shared prime is: {self.p}\")\n",
        "        print(f\"The shared generator is: {self.g}\")        \n",
        "        self.myPubKey = pow(self.g, self.secret, self.p)\n",
        "        print(f\"The initialiser's public key is: {self.myPubKey}\")\n",
        "        target.rx.append(self.p)\n",
        "        target.rx.append(self.g)\n",
        "        target.rx.append(self.myPubKey)\n",
        "        target.respDH(self)\n",
        "        self.theirPubKey = self.rx.pop()\n",
        "        print(f\"The respondant's public key is: {self.theirPubKey}\")\n",
        "        self.finalKey = pow(self.theirPubKey, self.secret, self.p)\n",
        "        print(f\"The final agreed private key is: {self.finalKey}\")\n",
        "\n",
        "    def respDH(self, target):\n",
        "        \"\"\"\n",
        "        Respond to a prime modulo exponentiation key exchange request.\n",
        "        (This method is called automatically by the initialising instance.)\n",
        "        \"\"\"\n",
        "        self.theirPubKey = self.rx.pop()\n",
        "        self.g = self.rx.pop()\n",
        "        self.p = self.rx.pop()\n",
        "        self.myPubKey = pow(self.g, self.secret, self.p)\n",
        "        target.rx.append(self.myPubKey)\n",
        "        self.finalKey = pow(self.theirPubKey, self.secret, self.p)\n",
        "        print(f\"Respondant's final agreed private key is: {self.finalKey}\")\n",
        "\n",
        "    def initECDHE(self, target):\n",
        "        \"\"\"\n",
        "        Start a elliptic curve key exchange with user instance\n",
        "        'target'.\n",
        "        \"\"\"\n",
        "        print(\"Using NIST P-256 elliptic curve...\")\n",
        "        print(\"Generating a new initialiser key pair...\")\n",
        "        privEC = ecc.generate(curve=\"p256\")\n",
        "        pubEC = privEC.public_key()\n",
        "        print(\"The initialiser's private key is:\", privEC)\n",
        "        print(\"Sending initialiser's public key...\")\n",
        "        target.rx.append(pubEC)\n",
        "        target.respECDHE(self)\n",
        "        theirPubEC = self.rx.pop()\n",
        "        print(\"The respondant's public key is:\", theirPubEC)\n",
        "        finalEC = (privEC.d * theirPubEC.pointQ)\n",
        "        finalECx = finalEC.x\n",
        "        print(f\"Final shared secret is: {finalECx}\")\n",
        "        \n",
        "    def respECDHE(self, target):\n",
        "        \"\"\"\n",
        "        Respond to an elliptic curve key exchange request.\n",
        "        (This method is called automatically by the initialising instance.)\n",
        "        \"\"\"\n",
        "        print(\"Generating a new respondant key pair...\")\n",
        "        privEC = ecc.generate(curve=\"p256\")\n",
        "        print(\"The Respondant's private key is:\", privEC)\n",
        "        pubEC = privEC.public_key()\n",
        "        theirPubEC = self.rx.pop()\n",
        "        print(\"The initialiser's public key is: \", theirPubEC)\n",
        "        print(\"Sending respondant's public key...\")\n",
        "        target.rx.append(pubEC)\n",
        "        finalEC = privEC.d * theirPubEC.pointQ\n",
        "        finalECx = finalEC.x\n",
        "        print(f\"Respondant's final shared secret is: {finalECx}\")\n",
        "        \n",
        "\n",
        "if __name__ == \"__main__\":\n",
        "    alice = user()\n",
        "    bob = user()\n",
        "\n",
        "    print(\"+++ Modulo Exponential Diffie-Hellman +++\")\n",
        "    alice.initDH(bob, 256)\n",
        "    print()\n",
        "\n",
        "    print(\"+++ Elliptic Curve Diffie-Hellman (Ephemeral) +++\")\n",
        "    bob.initECDHE(alice)\n"
      ],
      "execution_count": 8,
      "outputs": [
        {
          "output_type": "stream",
          "text": [
            "+++ Modulo Exponential Diffie-Hellman +++\n",
            "Finding a 256-bit prime...\n",
            "Finding a suitable generator...\n",
            "The shared prime is: 37551529316440649303261682923895156437984339346473081181739941568640677980053\n",
            "The shared generator is: 7247522214810185171880671422083067885359667150058117088855809525271639043250\n",
            "The initialiser's public key is: 23913160594869583164062417320976856786957381604358329080985835340754598444219\n",
            "Respondant's final agreed private key is: 17446349235076518458581185693364516384676857461535740685528333487101862126567\n",
            "The respondant's public key is: 10618800241902745616277074208898481753970036420891385451762465614196594461546\n",
            "The final agreed private key is: 17446349235076518458581185693364516384676857461535740685528333487101862126567\n",
            "\n",
            "+++ Elliptic Curve Diffie-Hellman (Ephemeral) +++\n",
            "Using NIST P-256 elliptic curve...\n",
            "Generating a new initialiser key pair...\n",
            "The initialiser's private key is: EccKey(curve='NIST P-256', point_x=47583724349536376443877466740654162148956889209512762108395400509049004844691, point_y=106728607199993153406082158465486075620251637223283707884718978605998961866864, d=64909073987013193542884252539823174326461289884559685980888152605434616064832)\n",
            "Sending initialiser's public key...\n",
            "Generating a new respondant key pair...\n",
            "The Respondant's private key is: EccKey(curve='NIST P-256', point_x=36782928272312742091121213799354530352334828513773028237534967659235597351247, point_y=15068609326540250610529307383709214059615387565806360116831463050872679358503, d=108810558596398258223913501250507188121709216108234947989668986202087961785617)\n",
            "The initialiser's public key is:  EccKey(curve='NIST P-256', point_x=47583724349536376443877466740654162148956889209512762108395400509049004844691, point_y=106728607199993153406082158465486075620251637223283707884718978605998961866864)\n",
            "Sending respondant's public key...\n",
            "Respondant's final shared secret is: 74182335556863160209824963347043716649011304699823865902314633567716505883026\n",
            "The respondant's public key is: EccKey(curve='NIST P-256', point_x=36782928272312742091121213799354530352334828513773028237534967659235597351247, point_y=15068609326540250610529307383709214059615387565806360116831463050872679358503)\n",
            "Final shared secret is: 74182335556863160209824963347043716649011304699823865902314633567716505883026\n"
          ],
          "name": "stdout"
        }
      ]
    }
  ]
}