{
  "nbformat": 4,
  "nbformat_minor": 0,
  "metadata": {
    "colab": {
      "name": "DiffieHellman.ipynb",
      "provenance": [],
      "collapsed_sections": [],
      "authorship_tag": "ABX9TyMjx3kXiWKBBMeIOsA9Coxl",
      "include_colab_link": true
    },
    "kernelspec": {
      "name": "python3",
      "display_name": "Python 3"
    },
    "language_info": {
      "name": "python"
    }
  },
  "cells": [
    {
      "cell_type": "markdown",
      "metadata": {
        "id": "view-in-github",
        "colab_type": "text"
      },
      "source": [
        "<a href=\"https://colab.research.google.com/github/franklinscudder/DiffieHellmanExample/blob/main/DiffieHellman.ipynb\" target=\"_parent\"><img src=\"https://colab.research.google.com/assets/colab-badge.svg\" alt=\"Open In Colab\"/></a>"
      ]
    },
    {
      "cell_type": "code",
      "metadata": {
        "colab": {
          "base_uri": "https://localhost:8080/"
        },
        "id": "TavAF5G1NLoq",
        "outputId": "abfb65e4-32e4-4fe4-d610-4291a40515fe"
      },
      "source": [
        "!pip3 install numba --upgrade"
      ],
      "execution_count": 6,
      "outputs": [
        {
          "output_type": "stream",
          "text": [
            "Requirement already up-to-date: numba in /usr/local/lib/python3.7/dist-packages (0.53.1)\n",
            "Requirement already satisfied, skipping upgrade: numpy>=1.15 in /usr/local/lib/python3.7/dist-packages (from numba) (1.19.5)\n",
            "Requirement already satisfied, skipping upgrade: setuptools in /usr/local/lib/python3.7/dist-packages (from numba) (57.0.0)\n",
            "Requirement already satisfied, skipping upgrade: llvmlite<0.37,>=0.36.0rc1 in /usr/local/lib/python3.7/dist-packages (from numba) (0.36.0)\n"
          ],
          "name": "stdout"
        }
      ]
    },
    {
      "cell_type": "code",
      "metadata": {
        "colab": {
          "base_uri": "https://localhost:8080/"
        },
        "id": "vh7WXq-BKDHB",
        "outputId": "8164e627-a121-4e87-8a0a-a7b291854cc7"
      },
      "source": [
        "from numba import njit\n",
        "import random\n",
        "from math import gcd as bltin_gcd\n",
        "\n",
        "def primRoots(modulo):\n",
        "    required_set = {num for num in range(1, modulo) if bltin_gcd(num, modulo) }\n",
        "    return [g for g in range(1, modulo) if required_set == {pow(g, powers, modulo) for powers in range(1, modulo)}]\n",
        "\n",
        "@njit\n",
        "def Prime(n):\n",
        "    if n & 1 == 0:\n",
        "        return 2\n",
        "    d= 3\n",
        "    while d * d <= n:\n",
        "        if n % d == 0:\n",
        "            return d\n",
        "        d= d + 2\n",
        "    return 0\n",
        "\n",
        "@njit\n",
        "def getPrime(bits):\n",
        "    p=1\n",
        "    n = 0\n",
        "    bits = 2 ** bits\n",
        "    base = random.randint(bits/2, bits)\n",
        "\n",
        "    while p is not 0:\n",
        "        n+=1\n",
        "        p = Prime(base + n)\n",
        "\n",
        "    return base + n\n",
        "\n",
        "class user:\n",
        "    def __init__(self):\n",
        "        self.rx = []\n",
        "        self.secret = random.randint(5,128)\n",
        "    \n",
        "    def initDH(self, target, bits):\n",
        "        print(f\"Finding a {bits}-bit prime...\")\n",
        "        self.p = getPrime(bits)\n",
        "        print(f\"Finding a suitable generator...\")\n",
        "        self.g = random.choice(primRoots(self.p))\n",
        "        print(f\"The shared prime is: {self.p}\")\n",
        "        print(f\"The shared generator is: {self.g}\")        \n",
        "        self.myPubKey = (self.g ** self.secret) % self.p\n",
        "        print(f\"The initialiser's public key is: {self.myPubKey}\")\n",
        "        target.rx.append(self.p)\n",
        "        target.rx.append(self.g)\n",
        "        target.rx.append(self.myPubKey)\n",
        "        target.respDH(self)\n",
        "        self.theirPubKey = self.rx.pop()\n",
        "        print(f\"The respondant's public key is: {self.theirPubKey}\")\n",
        "        self.finalKey = (self.theirPubKey ** self.secret) % self.p\n",
        "        print(f\"The final agreed private key is: {self.finalKey}\")\n",
        "\n",
        "    def respDH(self, target):\n",
        "        self.theirPubKey = self.rx.pop()\n",
        "        self.g = self.rx.pop()\n",
        "        self.p = self.rx.pop()\n",
        "        self.myPubKey = (self.g ** self.secret) % self.p\n",
        "        target.rx.append(self.myPubKey)\n",
        "        self.finalKey = (self.theirPubKey ** self.secret) % self.p\n",
        "\n",
        "alice = user()\n",
        "bob = user()\n",
        "alice.initDH(bob, 12)\n",
        "\n",
        "\n",
        "print(alice.finalKey)\n",
        "print(bob.finalKey)"
      ],
      "execution_count": 25,
      "outputs": [
        {
          "output_type": "stream",
          "text": [
            "Finding a 12-bit prime...\n",
            "Finding a suitable generator...\n",
            "The shared prime is: 3833\n",
            "The shared generator is: 492\n",
            "The initialiser's public key is: 1112\n",
            "The respondant's public key is: 3344\n",
            "The final agreed private key is: 3035\n",
            "3035\n",
            "3035\n"
          ],
          "name": "stdout"
        }
      ]
    }
  ]
}